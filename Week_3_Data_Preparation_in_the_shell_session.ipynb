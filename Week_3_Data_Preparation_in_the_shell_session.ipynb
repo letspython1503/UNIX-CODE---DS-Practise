{
  "nbformat": 4,
  "nbformat_minor": 0,
  "metadata": {
    "colab": {
      "provenance": [],
      "collapsed_sections": [
        "V9UBoB3EccTQ"
      ]
    },
    "kernelspec": {
      "name": "python3",
      "display_name": "Python 3"
    },
    "language_info": {
      "name": "python"
    }
  },
  "cells": [
    {
      "cell_type": "markdown",
      "source": [
        "# **Using UNIX**\n",
        "# *Some codes*\n",
        "\n",
        "**!curl --help (or) !curl --help all** - retrives all the commands under this prompt.\n",
        "\n",
        "**!curl --continue-at** - incase download gets cutoff or if file already exits, it will continue from that point.\n",
        "\n",
        "**!curl -location** - redirects me to the URL incase of download error instead of just stopping.\n",
        "\n",
        "**!curl -output<file>** - to save output in the file.\n",
        "\n",
        "**!ls -l** - Shows long format of the file.\n",
        "\n",
        "**!gzip --decompress** - To decompressed a zipped file.\n",
        "\n",
        "**!head -n 5** - To see the first few i.e., 5 lines.\n",
        "\n",
        "\n"
      ],
      "metadata": {
        "id": "V9UBoB3EccTQ"
      }
    },
    {
      "cell_type": "code",
      "source": [
        "!curl -L -o firstattempt.ext 'https://docs.google.com/uc?export=download&id=1VEnKChf4i04iKsQfw0MwoJlfkOBGQ65B'"
      ],
      "metadata": {
        "colab": {
          "base_uri": "https://localhost:8080/"
        },
        "collapsed": true,
        "id": "9u56XYYjs_TE",
        "outputId": "4a131f74-9e4b-4079-fa31-847ba57768a7"
      },
      "execution_count": null,
      "outputs": [
        {
          "output_type": "stream",
          "name": "stdout",
          "text": [
            "  % Total    % Received % Xferd  Average Speed   Time    Time     Time  Current\n",
            "                                 Dload  Upload   Total   Spent    Left  Speed\n",
            "  0     0    0     0    0     0      0      0 --:--:-- --:--:-- --:--:--     0\n",
            "100  121k  100  121k    0     0  50644      0  0:00:02  0:00:02 --:--:--  108k\n"
          ]
        }
      ]
    },
    {
      "cell_type": "code",
      "source": [
        "%cd .."
      ],
      "metadata": {
        "colab": {
          "base_uri": "https://localhost:8080/"
        },
        "collapsed": true,
        "id": "HvEfPe6fkDCt",
        "outputId": "3696dc34-5657-4008-9bc2-e34a0da3a8e2"
      },
      "execution_count": null,
      "outputs": [
        {
          "output_type": "stream",
          "name": "stdout",
          "text": [
            "/\n"
          ]
        }
      ]
    },
    {
      "cell_type": "code",
      "execution_count": null,
      "metadata": {
        "colab": {
          "base_uri": "https://localhost:8080/"
        },
        "collapsed": true,
        "id": "5H94jpdlZ9jT",
        "outputId": "2027ce6a-f8e6-439e-c2bd-b5682893a750"
      },
      "outputs": [
        {
          "output_type": "stream",
          "name": "stdout",
          "text": [
            "bin\t\t\t    dev    lib64\t\t     opt\t\trun   tools\n",
            "boot\t\t\t    etc    libx32\t\t     proc\t\tsbin  usr\n",
            "content\t\t\t    home   media\t\t     python-apt\t\tsrv   var\n",
            "cuda-keyring_1.0-1_all.deb  lib    mnt\t\t\t     python-apt.tar.xz\tsys\n",
            "datalab\t\t\t    lib32  NGC-DL-CONTAINER-LICENSE  root\t\ttmp\n"
          ]
        }
      ],
      "source": [
        "!ls"
      ]
    },
    {
      "cell_type": "code",
      "source": [
        "!ls sample_data"
      ],
      "metadata": {
        "colab": {
          "base_uri": "https://localhost:8080/"
        },
        "collapsed": true,
        "id": "TyseX31Yivr7",
        "outputId": "642b8d28-19e2-4fd0-92cc-ca58e4f45e56"
      },
      "execution_count": null,
      "outputs": [
        {
          "output_type": "stream",
          "name": "stdout",
          "text": [
            "ls: cannot access 'sample_data': No such file or directory\n"
          ]
        }
      ]
    },
    {
      "cell_type": "code",
      "source": [
        "!head -n  6 sample_data/california_housing_test.csv"
      ],
      "metadata": {
        "colab": {
          "base_uri": "https://localhost:8080/"
        },
        "collapsed": true,
        "id": "f1ly1e_FhbhS",
        "outputId": "6fbf1a08-18b6-4f9d-ffcc-82ca3f334e85"
      },
      "execution_count": null,
      "outputs": [
        {
          "output_type": "stream",
          "name": "stdout",
          "text": [
            "head: cannot open 'sample_data/california_housing_test.csv' for reading: No such file or directory\n"
          ]
        }
      ]
    },
    {
      "cell_type": "code",
      "source": [
        "!tail -n 5 sample_data/california_housing_test.csv"
      ],
      "metadata": {
        "colab": {
          "base_uri": "https://localhost:8080/"
        },
        "collapsed": true,
        "id": "iKrxups_kaee",
        "outputId": "205d2e3b-4527-42b8-d5a1-6bcf5a49cc8c"
      },
      "execution_count": null,
      "outputs": [
        {
          "output_type": "stream",
          "name": "stdout",
          "text": [
            "tail: cannot open 'sample_data/california_housing_test.csv' for reading: No such file or directory\n"
          ]
        }
      ]
    },
    {
      "cell_type": "code",
      "source": [
        "!wc sample_data/california_housing_test.csv"
      ],
      "metadata": {
        "colab": {
          "base_uri": "https://localhost:8080/"
        },
        "collapsed": true,
        "id": "tmWvsEtZkzp2",
        "outputId": "a12770e1-122d-4e82-901b-5167fad59d6c"
      },
      "execution_count": null,
      "outputs": [
        {
          "output_type": "stream",
          "name": "stdout",
          "text": [
            "wc: sample_data/california_housing_test.csv: No such file or directory\n"
          ]
        }
      ]
    },
    {
      "cell_type": "code",
      "source": [
        "!wc -l sample_data/california_housing_test.csv"
      ],
      "metadata": {
        "colab": {
          "base_uri": "https://localhost:8080/"
        },
        "collapsed": true,
        "id": "v8osu33PkimW",
        "outputId": "026e1e59-5e29-4cb3-947b-fc3253b07435"
      },
      "execution_count": null,
      "outputs": [
        {
          "output_type": "stream",
          "name": "stdout",
          "text": [
            "wc: sample_data/california_housing_test.csv: No such file or directory\n"
          ]
        }
      ]
    },
    {
      "cell_type": "code",
      "source": [
        "!cut --delimiter \",\" --fields 4 sample_data/california_housing_test.csv | head -n 5"
      ],
      "metadata": {
        "colab": {
          "base_uri": "https://localhost:8080/"
        },
        "collapsed": true,
        "id": "9TUn0WHdk9jt",
        "outputId": "7ded0a2d-c75d-4f38-9b51-17be3840b666"
      },
      "execution_count": null,
      "outputs": [
        {
          "output_type": "stream",
          "name": "stdout",
          "text": [
            "cut: sample_data/california_housing_test.csv: No such file or directory\n"
          ]
        }
      ]
    },
    {
      "cell_type": "code",
      "source": [
        "!cut --delimiter \",\" --fields 4 sample_data/california_housing_test.csv | sort | uniq --count| sort --key 1 -r| head -n 25"
      ],
      "metadata": {
        "colab": {
          "base_uri": "https://localhost:8080/"
        },
        "collapsed": true,
        "id": "n2VT5qVEmXMh",
        "outputId": "7445b93c-f0ce-4456-b39d-d1aa4032511a"
      },
      "execution_count": null,
      "outputs": [
        {
          "output_type": "stream",
          "name": "stdout",
          "text": [
            "cut: sample_data/california_housing_test.csv: No such file or directory\n"
          ]
        }
      ]
    },
    {
      "cell_type": "code",
      "source": [
        "!grep \"907.000000\" sample_data/california_housing_test.csv | head"
      ],
      "metadata": {
        "colab": {
          "base_uri": "https://localhost:8080/"
        },
        "collapsed": true,
        "id": "XjdMCxdloOtK",
        "outputId": "f2eb40c0-41a3-417e-ec99-85c6b7bf9b69"
      },
      "execution_count": null,
      "outputs": [
        {
          "output_type": "stream",
          "name": "stdout",
          "text": [
            "grep: sample_data/california_housing_test.csv: No such file or directory\n"
          ]
        }
      ]
    },
    {
      "cell_type": "code",
      "source": [
        "!grep \"\\S907\\S\" sample_data/california_housing_test.csv | head"
      ],
      "metadata": {
        "colab": {
          "base_uri": "https://localhost:8080/"
        },
        "collapsed": true,
        "id": "sc07iA8cpkZE",
        "outputId": "805fd0fb-f70b-4423-b2d3-c0a4128cbfc8"
      },
      "execution_count": null,
      "outputs": [
        {
          "output_type": "stream",
          "name": "stdout",
          "text": [
            "grep: sample_data/california_housing_test.csv: No such file or directory\n"
          ]
        }
      ]
    }
  ]
}